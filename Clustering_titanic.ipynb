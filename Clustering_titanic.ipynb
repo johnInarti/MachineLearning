{
  "nbformat": 4,
  "nbformat_minor": 0,
  "metadata": {
    "colab": {
      "name": "Clustering-titanic.ipynb",
      "provenance": [],
      "authorship_tag": "ABX9TyM17ad1wekF5j2CEsen3WT8",
      "include_colab_link": true
    },
    "kernelspec": {
      "name": "python3",
      "display_name": "Python 3"
    }
  },
  "cells": [
    {
      "cell_type": "markdown",
      "metadata": {
        "id": "view-in-github",
        "colab_type": "text"
      },
      "source": [
        "<a href=\"https://colab.research.google.com/github/johnInarti/MachineLearning/blob/main/Clustering_titanic.ipynb\" target=\"_parent\"><img src=\"https://colab.research.google.com/assets/colab-badge.svg\" alt=\"Open In Colab\"/></a>"
      ]
    },
    {
      "cell_type": "markdown",
      "metadata": {
        "id": "pMydnkGt64oX"
      },
      "source": [
        "PREPARACION DE DATOS"
      ]
    },
    {
      "cell_type": "code",
      "metadata": {
        "id": "PfN1OoNE6yUf"
      },
      "source": [
        "#librerias básicas\n",
        "import pandas as pd\n",
        "import numpy as np\n",
        "import matplotlib.pyplot as plt\n"
      ],
      "execution_count": 2,
      "outputs": []
    },
    {
      "cell_type": "code",
      "metadata": {
        "id": "o45zhEMo91rI",
        "outputId": "91ced1b7-6e33-463a-9d08-1c436f7cb5cc",
        "colab": {
          "base_uri": "https://localhost:8080/",
          "height": 195
        }
      },
      "source": [
        "data = pd.read_excel(\"titanic.xlsx\",sheet_name=0)\n",
        "data.head()"
      ],
      "execution_count": 3,
      "outputs": [
        {
          "output_type": "execute_result",
          "data": {
            "text/html": [
              "<div>\n",
              "<style scoped>\n",
              "    .dataframe tbody tr th:only-of-type {\n",
              "        vertical-align: middle;\n",
              "    }\n",
              "\n",
              "    .dataframe tbody tr th {\n",
              "        vertical-align: top;\n",
              "    }\n",
              "\n",
              "    .dataframe thead th {\n",
              "        text-align: right;\n",
              "    }\n",
              "</style>\n",
              "<table border=\"1\" class=\"dataframe\">\n",
              "  <thead>\n",
              "    <tr style=\"text-align: right;\">\n",
              "      <th></th>\n",
              "      <th>Clase</th>\n",
              "      <th>Edad</th>\n",
              "      <th>Sexo</th>\n",
              "      <th>Sobrevivio</th>\n",
              "    </tr>\n",
              "  </thead>\n",
              "  <tbody>\n",
              "    <tr>\n",
              "      <th>0</th>\n",
              "      <td>primera</td>\n",
              "      <td>adulto</td>\n",
              "      <td>hombre</td>\n",
              "      <td>Si_Sobrevivio</td>\n",
              "    </tr>\n",
              "    <tr>\n",
              "      <th>1</th>\n",
              "      <td>primera</td>\n",
              "      <td>adulto</td>\n",
              "      <td>hombre</td>\n",
              "      <td>Si_Sobrevivio</td>\n",
              "    </tr>\n",
              "    <tr>\n",
              "      <th>2</th>\n",
              "      <td>primera</td>\n",
              "      <td>adulto</td>\n",
              "      <td>hombre</td>\n",
              "      <td>Si_Sobrevivio</td>\n",
              "    </tr>\n",
              "    <tr>\n",
              "      <th>3</th>\n",
              "      <td>primera</td>\n",
              "      <td>adulto</td>\n",
              "      <td>hombre</td>\n",
              "      <td>Si_Sobrevivio</td>\n",
              "    </tr>\n",
              "    <tr>\n",
              "      <th>4</th>\n",
              "      <td>primera</td>\n",
              "      <td>adulto</td>\n",
              "      <td>hombre</td>\n",
              "      <td>Si_Sobrevivio</td>\n",
              "    </tr>\n",
              "  </tbody>\n",
              "</table>\n",
              "</div>"
            ],
            "text/plain": [
              "     Clase    Edad    Sexo     Sobrevivio\n",
              "0  primera  adulto  hombre  Si_Sobrevivio\n",
              "1  primera  adulto  hombre  Si_Sobrevivio\n",
              "2  primera  adulto  hombre  Si_Sobrevivio\n",
              "3  primera  adulto  hombre  Si_Sobrevivio\n",
              "4  primera  adulto  hombre  Si_Sobrevivio"
            ]
          },
          "metadata": {
            "tags": []
          },
          "execution_count": 3
        }
      ]
    },
    {
      "cell_type": "code",
      "metadata": {
        "id": "HSmFUrAf-tXB",
        "outputId": "8582206c-d5a9-4880-be80-f39eeabe2c91",
        "colab": {
          "base_uri": "https://localhost:8080/",
          "height": 202
        }
      },
      "source": [
        "data.info()"
      ],
      "execution_count": 4,
      "outputs": [
        {
          "output_type": "stream",
          "text": [
            "<class 'pandas.core.frame.DataFrame'>\n",
            "RangeIndex: 2201 entries, 0 to 2200\n",
            "Data columns (total 4 columns):\n",
            " #   Column      Non-Null Count  Dtype \n",
            "---  ------      --------------  ----- \n",
            " 0   Clase       2201 non-null   object\n",
            " 1   Edad        2201 non-null   object\n",
            " 2   Sexo        2201 non-null   object\n",
            " 3   Sobrevivio  2201 non-null   object\n",
            "dtypes: object(4)\n",
            "memory usage: 68.9+ KB\n"
          ],
          "name": "stdout"
        }
      ]
    },
    {
      "cell_type": "code",
      "metadata": {
        "id": "uobZqDlf_RyK",
        "outputId": "717994f2-625b-4dfa-dab8-3ca7458fba4e",
        "colab": {
          "base_uri": "https://localhost:8080/",
          "height": 202
        }
      },
      "source": [
        "#correccion del tipo de datos\n",
        "data['Clase']=data['Clase'].astype('category')\n",
        "data['Edad']=data['Edad'].astype('category')\n",
        "data['Sexo']=data['Sexo'].astype('category')\n",
        "data['Sobrevivio']=data['Sobrevivio'].astype('category')\n",
        "data.info()\n"
      ],
      "execution_count": 6,
      "outputs": [
        {
          "output_type": "stream",
          "text": [
            "<class 'pandas.core.frame.DataFrame'>\n",
            "RangeIndex: 2201 entries, 0 to 2200\n",
            "Data columns (total 4 columns):\n",
            " #   Column      Non-Null Count  Dtype   \n",
            "---  ------      --------------  -----   \n",
            " 0   Clase       2201 non-null   category\n",
            " 1   Edad        2201 non-null   category\n",
            " 2   Sexo        2201 non-null   category\n",
            " 3   Sobrevivio  2201 non-null   category\n",
            "dtypes: category(4)\n",
            "memory usage: 9.2 KB\n"
          ],
          "name": "stdout"
        }
      ]
    }
  ]
}